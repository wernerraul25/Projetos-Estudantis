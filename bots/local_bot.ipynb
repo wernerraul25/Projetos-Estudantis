{
 "cells": [
  {
   "cell_type": "code",
   "execution_count": 19,
   "metadata": {},
   "outputs": [],
   "source": [
    "import pyautogui\n",
    "\n",
    "pyautogui.PAUSE = 1\n",
    "\n",
    "#abrir a ferramenta/o sistema/ o programa\n",
    "pyautogui.press(\"win\")\n",
    "pyautogui.write(\"login.xlsx\")\n",
    "pyautogui.press(\"backspace\")\n",
    "pyautogui.press(\"enter\")\n",
    "\n",
    "#preencher o login\n",
    "pyautogui.click(x=501, y=340)\n",
    "pyautogui.write(\"werner\")\n",
    "#preencher a senha\n",
    "pyautogui.click(x=509, y=395)\n",
    "pyautogui.write(\"senhawerner\")\n",
    "#clicar em fazer login\n",
    "pyautogui.click(x=479, y=526)"
   ]
  },
  {
   "cell_type": "code",
   "execution_count": 20,
   "metadata": {},
   "outputs": [
    {
     "data": {
      "text/plain": [
       "Point(x=479, y=526)"
      ]
     },
     "execution_count": 20,
     "metadata": {},
     "output_type": "execute_result"
    }
   ],
   "source": [
    "#pegar posiçao do mouse\n",
    "import time\n",
    "time.sleep(3)\n",
    "pyautogui.position()"
   ]
  }
 ],
 "metadata": {
  "kernelspec": {
   "display_name": "Python 3",
   "language": "python",
   "name": "python3"
  },
  "language_info": {
   "name": "python",
   "version": "3.11.2"
  },
  "orig_nbformat": 4
 },
 "nbformat": 4,
 "nbformat_minor": 2
}
