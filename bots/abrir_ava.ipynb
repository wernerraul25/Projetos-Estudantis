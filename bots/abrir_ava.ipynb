{
 "cells": [
  {
   "cell_type": "code",
   "execution_count": 4,
   "metadata": {},
   "outputs": [],
   "source": [
    "#chrome -> chromedriver\n",
    "#firefox -> geckodriver\n",
    "\n",
    "from selenium import webdriver\n",
    "from selenium.webdriver.common.keys import Keys\n",
    "import pyautogui\n",
    "\n",
    "username = str(input(\"Digite seu username: \"))\n",
    "senha = str(input(\"Digite a senha: \"))\n",
    "\n",
    "try:\n",
    "    login = open(\"login.txt\",\"a\")\n",
    "    login.write(\"\\n\" + \"Username: \" + username + \"\\n\" + \"Senha: \" + senha)\n",
    "    login.close()\n",
    "except:\n",
    "    login = open(\"login.txt\",\"w\")\n",
    "    login.write(\"Username: \" + username + \"\\n\" + \"Senha: \" + senha)\n",
    "    login.close()\n",
    "\n",
    "navegador = webdriver.Chrome()\n",
    "\n",
    "pyautogui.PAUSE = 1\n",
    "\n",
    "navegador.maximize_window()\n",
    "navegador.get(\"https://www.atitus.edu.br/\")\n",
    "\n",
    "#fecha o aviso de ser um software de teste automatizado\n",
    "pyautogui.click(x=1893, y=114)\n",
    "\n",
    "#clica em minha conta e abre o ava\n",
    "pyautogui.click(x=1651, y=251)\n",
    "pyautogui.click(x=1670, y=328)\n",
    "pyautogui.moveTo(x=1913, y=295)\n",
    "pyautogui.drag(0,120,1,button='left')\n",
    "pyautogui.click(x=1424, y=487)\n",
    "\n",
    "#clica em username e escreve\n",
    "pyautogui.click(x=1651, y=251)\n",
    "pyautogui.click(x=1403, y=682)\n",
    "pyautogui.click(x=869, y=401)\n",
    "pyautogui.write(username)\n",
    "\n",
    "#clica em senha e escreve\n",
    "pyautogui.click(x=903, y=462)\n",
    "pyautogui.write(senha)\n",
    "\n",
    "#clica em entrar\n",
    "pyautogui.click(x=1095, y=535)\n",
    "\n",
    "#deixa o mouse em cima do 'meus cursos'\n",
    "pyautogui.moveTo(x=1730, y=130)"
   ]
  }
 ],
 "metadata": {
  "kernelspec": {
   "display_name": "Python 3",
   "language": "python",
   "name": "python3"
  },
  "language_info": {
   "codemirror_mode": {
    "name": "ipython",
    "version": 3
   },
   "file_extension": ".py",
   "mimetype": "text/x-python",
   "name": "python",
   "nbconvert_exporter": "python",
   "pygments_lexer": "ipython3",
   "version": "3.11.2"
  },
  "orig_nbformat": 4
 },
 "nbformat": 4,
 "nbformat_minor": 2
}
