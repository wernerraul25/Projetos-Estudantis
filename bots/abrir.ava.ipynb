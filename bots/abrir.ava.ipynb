{
 "cells": [
  {
   "cell_type": "code",
   "execution_count": 8,
   "metadata": {},
   "outputs": [],
   "source": [
    "from selenium import webdriver\n",
    "from selenium.webdriver.common.by import By\n",
    "\n",
    "username = str(input(\"Digite seu username: \"))\n",
    "senha = str(input(\"Digite a senha: \"))\n",
    "\n",
    "\"\"\"try:\n",
    "    login = open(\"login.txt\",\"a\")\n",
    "    login.write(\"\\n\" + \"Username: \" + username + \"\\n\" + \"Senha: \" + senha)\n",
    "    login.close()\n",
    "except:\n",
    "    login = open(\"login.txt\",\"w\")\n",
    "    login.write(\"Username: \" + username + \"\\n\" + \"Senha: \" + senha)\n",
    "    login.close()\"\"\"\n",
    "\n",
    "driver = webdriver.Chrome()\n",
    "driver.get('https://ava.atitus.edu.br/avalogin/Login.aspx?ReturnUrl=%2favalogin')\n",
    "driver.maximize_window()\n",
    "elem = driver.find_element(By.XPATH, '//*[@id=\"username\"]')\n",
    "elem.clear()\n",
    "elem.send_keys(username)\n",
    "elem = driver.find_element(By.XPATH, '//*[@id=\"password\"]')\n",
    "elem.clear()\n",
    "elem.send_keys(senha)\n",
    "elem = driver.find_element(By.XPATH, '//*[@id=\"myButton\"]').click()\n"
   ]
  }
 ],
 "metadata": {
  "kernelspec": {
   "display_name": "Python 3",
   "language": "python",
   "name": "python3"
  },
  "language_info": {
   "codemirror_mode": {
    "name": "ipython",
    "version": 3
   },
   "file_extension": ".py",
   "mimetype": "text/x-python",
   "name": "python",
   "nbconvert_exporter": "python",
   "pygments_lexer": "ipython3",
   "version": "3.11.2"
  }
 },
 "nbformat": 4,
 "nbformat_minor": 2
}
