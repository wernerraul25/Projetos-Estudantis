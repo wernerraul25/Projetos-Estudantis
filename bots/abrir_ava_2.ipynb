{
 "cells": [
  {
   "cell_type": "code",
   "execution_count": 1,
   "metadata": {},
   "outputs": [
    {
     "name": "stderr",
     "output_type": "stream",
     "text": [
      "Error getting version of chromedriver 115. Retrying with chromedriver 114 (attempt 1/5)\n"
     ]
    },
    {
     "ename": "NoSuchElementException",
     "evalue": "Message: no such element: Unable to locate element: {\"method\":\"xpath\",\"selector\":\"/html/body/div[2]/div/form/div[3]/div/input\"}\n  (Session info: chrome=115.0.5790.110); For documentation on this error, please visit: https://www.selenium.dev/documentation/webdriver/troubleshooting/errors#no-such-element-exception\nStacktrace:\nBacktrace:\n\tGetHandleVerifier [0x0088A813+48355]\n\t(No symbol) [0x0081C4B1]\n\t(No symbol) [0x00725358]\n\t(No symbol) [0x007509A5]\n\t(No symbol) [0x00750B3B]\n\t(No symbol) [0x0077E232]\n\t(No symbol) [0x0076A784]\n\t(No symbol) [0x0077C922]\n\t(No symbol) [0x0076A536]\n\t(No symbol) [0x007482DC]\n\t(No symbol) [0x007493DD]\n\tGetHandleVerifier [0x00AEAABD+2539405]\n\tGetHandleVerifier [0x00B2A78F+2800735]\n\tGetHandleVerifier [0x00B2456C+2775612]\n\tGetHandleVerifier [0x009151E0+616112]\n\t(No symbol) [0x00825F8C]\n\t(No symbol) [0x00822328]\n\t(No symbol) [0x0082240B]\n\t(No symbol) [0x00814FF7]\n\tBaseThreadInitThunk [0x756FFEF9+25]\n\tRtlGetAppContainerNamedObjectPath [0x774F7BBE+286]\n\tRtlGetAppContainerNamedObjectPath [0x774F7B8E+238]\n",
     "output_type": "error",
     "traceback": [
      "\u001b[1;31m---------------------------------------------------------------------------\u001b[0m",
      "\u001b[1;31mNoSuchElementException\u001b[0m                    Traceback (most recent call last)",
      "Cell \u001b[1;32mIn[1], line 26\u001b[0m\n\u001b[0;32m     23\u001b[0m botao_ava\u001b[39m.\u001b[39mclick()\n\u001b[0;32m     25\u001b[0m navegador\u001b[39m.\u001b[39mimplicitly_wait(\u001b[39m10\u001b[39m)\n\u001b[1;32m---> 26\u001b[0m botao_login \u001b[39m=\u001b[39m navegador\u001b[39m.\u001b[39;49mfind_element(\u001b[39m'\u001b[39;49m\u001b[39mxpath\u001b[39;49m\u001b[39m'\u001b[39;49m, \u001b[39m\"\u001b[39;49m\u001b[39m/html/body/div[2]/div/form/div[3]/div/input\u001b[39;49m\u001b[39m\"\u001b[39;49m)\n\u001b[0;32m     27\u001b[0m botao_login\u001b[39m.\u001b[39mclick()\n\u001b[0;32m     28\u001b[0m botao_login\u001b[39m.\u001b[39msend_keys(username)\n",
      "File \u001b[1;32mc:\\Users\\Geral\\AppData\\Local\\Programs\\Python\\Python311\\Lib\\site-packages\\selenium\\webdriver\\remote\\webdriver.py:740\u001b[0m, in \u001b[0;36mWebDriver.find_element\u001b[1;34m(self, by, value)\u001b[0m\n\u001b[0;32m    737\u001b[0m     by \u001b[39m=\u001b[39m By\u001b[39m.\u001b[39mCSS_SELECTOR\n\u001b[0;32m    738\u001b[0m     value \u001b[39m=\u001b[39m \u001b[39mf\u001b[39m\u001b[39m'\u001b[39m\u001b[39m[name=\u001b[39m\u001b[39m\"\u001b[39m\u001b[39m{\u001b[39;00mvalue\u001b[39m}\u001b[39;00m\u001b[39m\"\u001b[39m\u001b[39m]\u001b[39m\u001b[39m'\u001b[39m\n\u001b[1;32m--> 740\u001b[0m \u001b[39mreturn\u001b[39;00m \u001b[39mself\u001b[39;49m\u001b[39m.\u001b[39;49mexecute(Command\u001b[39m.\u001b[39;49mFIND_ELEMENT, {\u001b[39m\"\u001b[39;49m\u001b[39musing\u001b[39;49m\u001b[39m\"\u001b[39;49m: by, \u001b[39m\"\u001b[39;49m\u001b[39mvalue\u001b[39;49m\u001b[39m\"\u001b[39;49m: value})[\u001b[39m\"\u001b[39m\u001b[39mvalue\u001b[39m\u001b[39m\"\u001b[39m]\n",
      "File \u001b[1;32mc:\\Users\\Geral\\AppData\\Local\\Programs\\Python\\Python311\\Lib\\site-packages\\selenium\\webdriver\\remote\\webdriver.py:346\u001b[0m, in \u001b[0;36mWebDriver.execute\u001b[1;34m(self, driver_command, params)\u001b[0m\n\u001b[0;32m    344\u001b[0m response \u001b[39m=\u001b[39m \u001b[39mself\u001b[39m\u001b[39m.\u001b[39mcommand_executor\u001b[39m.\u001b[39mexecute(driver_command, params)\n\u001b[0;32m    345\u001b[0m \u001b[39mif\u001b[39;00m response:\n\u001b[1;32m--> 346\u001b[0m     \u001b[39mself\u001b[39;49m\u001b[39m.\u001b[39;49merror_handler\u001b[39m.\u001b[39;49mcheck_response(response)\n\u001b[0;32m    347\u001b[0m     response[\u001b[39m\"\u001b[39m\u001b[39mvalue\u001b[39m\u001b[39m\"\u001b[39m] \u001b[39m=\u001b[39m \u001b[39mself\u001b[39m\u001b[39m.\u001b[39m_unwrap_value(response\u001b[39m.\u001b[39mget(\u001b[39m\"\u001b[39m\u001b[39mvalue\u001b[39m\u001b[39m\"\u001b[39m, \u001b[39mNone\u001b[39;00m))\n\u001b[0;32m    348\u001b[0m     \u001b[39mreturn\u001b[39;00m response\n",
      "File \u001b[1;32mc:\\Users\\Geral\\AppData\\Local\\Programs\\Python\\Python311\\Lib\\site-packages\\selenium\\webdriver\\remote\\errorhandler.py:245\u001b[0m, in \u001b[0;36mErrorHandler.check_response\u001b[1;34m(self, response)\u001b[0m\n\u001b[0;32m    243\u001b[0m         alert_text \u001b[39m=\u001b[39m value[\u001b[39m\"\u001b[39m\u001b[39malert\u001b[39m\u001b[39m\"\u001b[39m]\u001b[39m.\u001b[39mget(\u001b[39m\"\u001b[39m\u001b[39mtext\u001b[39m\u001b[39m\"\u001b[39m)\n\u001b[0;32m    244\u001b[0m     \u001b[39mraise\u001b[39;00m exception_class(message, screen, stacktrace, alert_text)  \u001b[39m# type: ignore[call-arg]  # mypy is not smart enough here\u001b[39;00m\n\u001b[1;32m--> 245\u001b[0m \u001b[39mraise\u001b[39;00m exception_class(message, screen, stacktrace)\n",
      "\u001b[1;31mNoSuchElementException\u001b[0m: Message: no such element: Unable to locate element: {\"method\":\"xpath\",\"selector\":\"/html/body/div[2]/div/form/div[3]/div/input\"}\n  (Session info: chrome=115.0.5790.110); For documentation on this error, please visit: https://www.selenium.dev/documentation/webdriver/troubleshooting/errors#no-such-element-exception\nStacktrace:\nBacktrace:\n\tGetHandleVerifier [0x0088A813+48355]\n\t(No symbol) [0x0081C4B1]\n\t(No symbol) [0x00725358]\n\t(No symbol) [0x007509A5]\n\t(No symbol) [0x00750B3B]\n\t(No symbol) [0x0077E232]\n\t(No symbol) [0x0076A784]\n\t(No symbol) [0x0077C922]\n\t(No symbol) [0x0076A536]\n\t(No symbol) [0x007482DC]\n\t(No symbol) [0x007493DD]\n\tGetHandleVerifier [0x00AEAABD+2539405]\n\tGetHandleVerifier [0x00B2A78F+2800735]\n\tGetHandleVerifier [0x00B2456C+2775612]\n\tGetHandleVerifier [0x009151E0+616112]\n\t(No symbol) [0x00825F8C]\n\t(No symbol) [0x00822328]\n\t(No symbol) [0x0082240B]\n\t(No symbol) [0x00814FF7]\n\tBaseThreadInitThunk [0x756FFEF9+25]\n\tRtlGetAppContainerNamedObjectPath [0x774F7BBE+286]\n\tRtlGetAppContainerNamedObjectPath [0x774F7B8E+238]\n"
     ]
    }
   ],
   "source": [
    "from selenium import webdriver\n",
    "from selenium.webdriver.common.keys import Keys\n",
    "import pyautogui\n",
    "\n",
    "username = str(input(\"Digite seu username: \"))\n",
    "senha = str(input(\"Digite a senha: \"))\n",
    "\n",
    "navegador = webdriver.Chrome()\n",
    "\n",
    "pyautogui.PAUSE = 1\n",
    "\n",
    "navegador.maximize_window()\n",
    "navegador.get(\"https://www.atitus.edu.br/\")\n",
    "\n",
    "botao_minhaconta = navegador.find_element(\"xpath\",\"/html/body/div[1]/div/div[1]/div[2]/div/div[2]/div/button[2]\")\n",
    "botao_minhaconta.click()\n",
    "\n",
    "botao_aluno = navegador.find_element(\"xpath\",\"/html/body/div[1]/div/div[1]/div[2]/div/div[2]/div/div[2]/div/button[1]\")\n",
    "botao_aluno.click()\n",
    "\n",
    "navegador.implicitly_wait(10)\n",
    "botao_ava = navegador.find_element('xpath', '/html/body/div[1]/div/main/section/section/div/section[2]/div/div/div[2]/div/div[3]/a/span/span')\n",
    "botao_ava.click()\n",
    "\n",
    "navegador.implicitly_wait(10)\n",
    "botao_login = navegador.find_element('xpath', \"/html/body/div[2]/div/form/div[3]/div/input\")\n",
    "botao_login.click()\n",
    "botao_login.send_keys(username)\n",
    "\n",
    "navegador.implicitly_wait(10)\n",
    "botao_senha = navegador.find_element(\"xpath\", \"/html/body/div[2]/div/form/div[4]/div/input\")\n",
    "botao_senha.click()\n",
    "botao_senha.send_keys(senha)\n",
    "\n",
    "navegador.implicitly_wait(10)\n",
    "botao_entrar = navegador.find_element(\"xpath\", \"/html/body/div[2]/div/form/div[5]/input\")\n",
    "botao_entrar.click()\n"
   ]
  }
 ],
 "metadata": {
  "kernelspec": {
   "display_name": "Python 3",
   "language": "python",
   "name": "python3"
  },
  "language_info": {
   "codemirror_mode": {
    "name": "ipython",
    "version": 3
   },
   "file_extension": ".py",
   "mimetype": "text/x-python",
   "name": "python",
   "nbconvert_exporter": "python",
   "pygments_lexer": "ipython3",
   "version": "3.11.2"
  },
  "orig_nbformat": 4
 },
 "nbformat": 4,
 "nbformat_minor": 2
}
