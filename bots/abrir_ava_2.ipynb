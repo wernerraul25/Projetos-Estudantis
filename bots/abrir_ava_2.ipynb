{
 "cells": [
  {
   "cell_type": "code",
   "execution_count": null,
   "metadata": {},
   "outputs": [],
   "source": [
    "from selenium import webdriver\n",
    "from selenium.webdriver.common.keys import Keys\n",
    "import pyautogui\n",
    "\n",
    "username = str(input(\"Digite seu username: \"))\n",
    "senha = str(input(\"Digite a senha: \"))\n",
    "\n",
    "navegador = webdriver.Chrome()\n",
    "\n",
    "pyautogui.PAUSE = 1\n",
    "\n",
    "navegador.maximize_window()\n",
    "navegador.get(\"https://www.atitus.edu.br/\")\n",
    "\n",
    "botao_minhaconta = navegador.find_element(\"xpath\",\"/html/body/div[1]/div/div[1]/div[2]/div/div[2]/div/button[2]\")\n",
    "botao_minhaconta.click()\n",
    "\n",
    "botao_aluno = navegador.find_element(\"xpath\",\"/html/body/div[1]/div/div[1]/div[2]/div/div[2]/div/div[2]/div/button[1]\")\n",
    "botao_aluno.click()\n",
    "\n",
    "navegador.implicitly_wait(10)\n",
    "botao_ava = navegador.find_element('xpath', '/html/body/div[1]/div/main/section/section/div/section[2]/div/div/div[2]/div/div[3]/a/span/span')\n",
    "botao_ava.click()\n",
    "\n",
    "navegador.implicitly_wait(10)\n",
    "botao_login = navegador.find_element('xpath', \"/html/body/div[2]/div/form/div[3]/div/input\")\n",
    "botao_login.click()\n",
    "botao_login.send_keys(username)\n",
    "\n",
    "navegador.implicitly_wait(10)\n",
    "botao_senha = navegador.find_element(\"xpath\", \"/html/body/div[2]/div/form/div[4]/div/input\")\n",
    "botao_senha.click()\n",
    "botao_senha.send_keys(senha)\n",
    "\n",
    "navegador.implicitly_wait(10)\n",
    "botao_entrar = navegador.find_element(\"xpath\", \"/html/body/div[2]/div/form/div[5]/input\")\n",
    "botao_entrar.click()\n"
   ]
  }
 ],
 "metadata": {
  "kernelspec": {
   "display_name": "Python 3",
   "language": "python",
   "name": "python3"
  },
  "language_info": {
   "codemirror_mode": {
    "name": "ipython",
    "version": 3
   },
   "file_extension": ".py",
   "mimetype": "text/x-python",
   "name": "python",
   "nbconvert_exporter": "python",
   "pygments_lexer": "ipython3",
   "version": "3.11.2"
  },
  "orig_nbformat": 4
 },
 "nbformat": 4,
 "nbformat_minor": 2
}
